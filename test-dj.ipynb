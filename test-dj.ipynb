{
 "metadata": {
  "language_info": {
   "codemirror_mode": {
    "name": "ipython",
    "version": 3
   },
   "file_extension": ".py",
   "mimetype": "text/x-python",
   "name": "python",
   "nbconvert_exporter": "python",
   "pygments_lexer": "ipython3",
   "version": "3.9.1-final"
  },
  "orig_nbformat": 2,
  "kernelspec": {
   "name": "python3",
   "display_name": "Python 3",
   "language": "python"
  }
 },
 "nbformat": 4,
 "nbformat_minor": 2,
 "cells": [
  {
   "cell_type": "code",
   "execution_count": null,
   "metadata": {},
   "outputs": [],
   "source": [
    "import datajoint as dj\n",
    "import pandas as pd\n",
    "import pyrfume\n",
    "from pyrfume import datajoint_tools as djt\n",
    "from pyrfume import init_config, write_config, read_config\n",
    "from pyrfume.dbtables import get_tables, drop_schema, init_schema, set_schema_name"
   ]
  },
  {
   "cell_type": "code",
   "execution_count": null,
   "metadata": {},
   "outputs": [],
   "source": [
    "dj.config['database.host'] = 'hub://djhub.io/iconlab/osmonauts'\n",
    "dj.config['database.user'] = \"YOUR_USERNAME\"  # Message Rick Gerkin on Slack to get one\n",
    "dj.config['database.password'] = \"YOUR_PASSWORD\"  # Ditto, then change it\n",
    "dj.config[\"enable_python_native_blobs\"] = True\n",
    "#dj.config.save_local()"
   ]
  },
  {
   "cell_type": "code",
   "execution_count": null,
   "metadata": {},
   "outputs": [],
   "source": [
    "set_schema_name(\"u_zhiwei_odorants\")\n",
    "init_schema()\n",
    "drop_schema(True)\n",
    "locals().update(get_tables())"
   ]
  },
  {
   "cell_type": "code",
   "execution_count": null,
   "metadata": {},
   "outputs": [],
   "source": [
    "line = \"__________________________________________________________\"\n",
    "print(line)\n",
    "print(Molecule.definition)\n",
    "print(line)\n",
    "print(Vendor.definition)\n",
    "print(line)\n",
    "print(Product.definition)\n",
    "print(line)\n",
    "print(Compound.definition)\n",
    "print(line)\n",
    "print(Solution.definition)\n",
    "print(line)\n",
    "print(Solution.Compounds.definition)\n",
    "print(line)\n",
    "print(Vessel.definition)\n",
    "print(line)\n",
    "print(Odorant.definition)\n",
    "print(line)\n",
    "print(Odorant.Solutions.definition)\n",
    "print(line)\n",
    "print(Route.definition)\n",
    "print(line)\n",
    "print(Stimulus.definition)\n",
    "print(line)\n",
    "print(Stimulus.Odorants.definition)\n",
    "print(line)\n",
    "print(Subject.definition)\n",
    "print(line)\n",
    "print(Trial.definition)\n",
    "print(line)\n",
    "print(Site.definition)\n",
    "print(line)\n",
    "print(Investigator.definition)\n",
    "print(line)\n",
    "print(Technician.definition)\n",
    "print(line)\n",
    "print(Publication.definition)\n",
    "print(line)\n",
    "print(Report.definition)\n",
    "print(line)\n",
    "print(Design.definition)\n",
    "print(line)\n",
    "print(Block.definition)\n",
    "print(line)\n",
    "print(Block.Trials.definition)\n",
    "print(line)\n",
    "print(Experiment.definition)\n",
    "print(line)\n",
    "print(Experiment.Blocks.definition)\n",
    "print(line)\n",
    "print(Summary.definition)\n",
    "print(line)\n",
    "print(Summary.Odorants.definition)\n",
    "print(line)\n"
   ]
  },
  {
   "cell_type": "code",
   "execution_count": null,
   "metadata": {},
   "outputs": [],
   "source": [
    "Molecule.insert1({\n",
    "    \"smiles\": \"smile 1\",\n",
    "    \"inchi\": \"1S/C2H6O/c1-2-3/h3H,2H2,1H3\",\n",
    "    \"inchikey\": \"LFQSCWFLJHTTHZ-UHFFFAOYSA-N\",\n",
    "    \"pubchem_id\": 702,\n",
    "    \"name\": \"ethanol\",\n",
    "    \"iupac\": \"Ethanol\",\n",
    "})"
   ]
  },
  {
   "cell_type": "code",
   "execution_count": null,
   "metadata": {},
   "outputs": [],
   "source": [
    "import pandas as pd\n",
    "mols = pd.DataFrame(Molecule & \"name='ethanol'\")\n",
    "print(line)\n",
    "print(mols)"
   ]
  },
  {
   "cell_type": "code",
   "execution_count": null,
   "metadata": {},
   "outputs": [],
   "source": [
    "import matplotlib.pyplot as plt\n",
    "plt.figure(figsize=(30, 30))\n",
    "dj.ERD(pyrfume.dbtables.schema).draw()"
   ]
  },
  {
   "cell_type": "code",
   "execution_count": null,
   "metadata": {},
   "outputs": [],
   "source": []
  }
 ]
}